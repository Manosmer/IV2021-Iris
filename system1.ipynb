{
 "cells": [
  {
   "cell_type": "code",
   "execution_count": 2,
   "id": "00c55bec",
   "metadata": {
    "scrolled": true
   },
   "outputs": [
    {
     "name": "stdout",
     "output_type": "stream",
     "text": [
      "      species     size  Proportion  Count\n",
      "0      setosa  smaller        1.00     50\n",
      "1  versicolor  smaller        0.48     24\n",
      "2   virginica  smaller        0.12      6\n",
      "3      setosa   larger        0.00      0\n",
      "4  versicolor   larger        0.52     26\n"
     ]
    },
    {
     "data": {
      "text/html": [
       "\n",
       "<div id=\"altair-viz-bfab77259c174d0583a7e6849b4a0275\"></div>\n",
       "<script type=\"text/javascript\">\n",
       "  (function(spec, embedOpt){\n",
       "    let outputDiv = document.currentScript.previousElementSibling;\n",
       "    if (outputDiv.id !== \"altair-viz-bfab77259c174d0583a7e6849b4a0275\") {\n",
       "      outputDiv = document.getElementById(\"altair-viz-bfab77259c174d0583a7e6849b4a0275\");\n",
       "    }\n",
       "    const paths = {\n",
       "      \"vega\": \"https://cdn.jsdelivr.net/npm//vega@5?noext\",\n",
       "      \"vega-lib\": \"https://cdn.jsdelivr.net/npm//vega-lib?noext\",\n",
       "      \"vega-lite\": \"https://cdn.jsdelivr.net/npm//vega-lite@4.8.1?noext\",\n",
       "      \"vega-embed\": \"https://cdn.jsdelivr.net/npm//vega-embed@6?noext\",\n",
       "    };\n",
       "\n",
       "    function loadScript(lib) {\n",
       "      return new Promise(function(resolve, reject) {\n",
       "        var s = document.createElement('script');\n",
       "        s.src = paths[lib];\n",
       "        s.async = true;\n",
       "        s.onload = () => resolve(paths[lib]);\n",
       "        s.onerror = () => reject(`Error loading script: ${paths[lib]}`);\n",
       "        document.getElementsByTagName(\"head\")[0].appendChild(s);\n",
       "      });\n",
       "    }\n",
       "\n",
       "    function showError(err) {\n",
       "      outputDiv.innerHTML = `<div class=\"error\" style=\"color:red;\">${err}</div>`;\n",
       "      throw err;\n",
       "    }\n",
       "\n",
       "    function displayChart(vegaEmbed) {\n",
       "      vegaEmbed(outputDiv, spec, embedOpt)\n",
       "        .catch(err => showError(`Javascript Error: ${err.message}<br>This usually means there's a typo in your chart specification. See the javascript console for the full traceback.`));\n",
       "    }\n",
       "\n",
       "    if(typeof define === \"function\" && define.amd) {\n",
       "      requirejs.config({paths});\n",
       "      require([\"vega-embed\"], displayChart, err => showError(`Error loading script: ${err.message}`));\n",
       "    } else if (typeof vegaEmbed === \"function\") {\n",
       "      displayChart(vegaEmbed);\n",
       "    } else {\n",
       "      loadScript(\"vega\")\n",
       "        .then(() => loadScript(\"vega-lite\"))\n",
       "        .then(() => loadScript(\"vega-embed\"))\n",
       "        .catch(showError)\n",
       "        .then(() => displayChart(vegaEmbed));\n",
       "    }\n",
       "  })({\"config\": {\"view\": {\"continuousWidth\": 400, \"continuousHeight\": 300}}, \"data\": {\"name\": \"data-76d7e4cf056c60e8142dda32a60a7453\"}, \"mark\": {\"type\": \"bar\", \"width\": 50}, \"encoding\": {\"color\": {\"type\": \"nominal\", \"field\": \"species\", \"legend\": {\"title\": \"Species by colour hue\"}, \"scale\": {\"domain\": [\"setosa\", \"versicolor\", \"virginica\"], \"range\": [\"#324aa8\", \"#32a852\", \"#a83232\"]}}, \"column\": {\"type\": \"ordinal\", \"field\": \"size\", \"title\": \"Flower size\"}, \"tooltip\": [{\"type\": \"quantitative\", \"field\": \"Proportion\"}, {\"type\": \"quantitative\", \"field\": \"Count\"}], \"x\": {\"type\": \"nominal\", \"field\": \"species\", \"title\": \"Iris species\"}, \"y\": {\"type\": \"quantitative\", \"field\": \"Proportion\", \"title\": \"Proportion by size in species\"}}, \"selection\": {\"selector002\": {\"type\": \"interval\", \"bind\": \"scales\", \"encodings\": [\"x\", \"y\"]}}, \"width\": 200, \"$schema\": \"https://vega.github.io/schema/vega-lite/v4.8.1.json\", \"datasets\": {\"data-76d7e4cf056c60e8142dda32a60a7453\": [{\"species\": \"setosa\", \"size\": \"smaller\", \"Proportion\": 1.0, \"Count\": 50}, {\"species\": \"versicolor\", \"size\": \"smaller\", \"Proportion\": 0.48, \"Count\": 24}, {\"species\": \"virginica\", \"size\": \"smaller\", \"Proportion\": 0.12, \"Count\": 6}, {\"species\": \"setosa\", \"size\": \"larger\", \"Proportion\": 0.0, \"Count\": 0}, {\"species\": \"versicolor\", \"size\": \"larger\", \"Proportion\": 0.52, \"Count\": 26}, {\"species\": \"virginica\", \"size\": \"larger\", \"Proportion\": 0.88, \"Count\": 44}]}}, {\"mode\": \"vega-lite\"});\n",
       "</script>"
      ],
      "text/plain": [
       "alt.Chart(...)"
      ]
     },
     "execution_count": 2,
     "metadata": {},
     "output_type": "execute_result"
    }
   ],
   "source": [
    "import pandas as pd\n",
    "import altair as alt\n",
    "\n",
    "iris = pd.read_csv('iris.csv')\n",
    "\n",
    "\n",
    "iris.columns = [\"sepalLength\",\"sepalWidth\", \"petalLength\",\n",
    "                  \"petalWidth\", \"species\"]\n",
    "\n",
    "\n",
    "iris[\"larger\"] = iris.sepalLength > iris.sepalLength.median()\n",
    "\n",
    "countsOfLarger = iris.groupby([\"species\"]).larger.sum()\n",
    "countsOfSmaller = iris.groupby(\"species\").larger.count() - countsOfLarger\n",
    "\n",
    "\n",
    "proportionOfLarger = countsOfLarger / iris.groupby('species').larger.count()\n",
    "proportionOfSmaller = countsOfSmaller / iris.groupby('species').larger.count()\n",
    "\n",
    "proportionsTable = pd.DataFrame({\"smaller\": proportionOfSmaller,\n",
    "                                 \"larger\": proportionOfLarger,\n",
    "                                 \"smallerCount\": countsOfSmaller,\n",
    "                                 \"largerCount\": countsOfLarger})\n",
    "\n",
    "proportionsTable[\"species\"] = proportionsTable.index # index to column\n",
    "proportionsTable.index = range(len(proportionsTable.index)) # default index\n",
    "\n",
    "# from wide format to long (Tidy)\n",
    "proportionsTable = pd.melt(proportionsTable, var_name=\"size\", value_name=\"Proportion\", \n",
    "                           id_vars=[\"species\",\"smallerCount\",\"largerCount\"], value_vars=[\"smaller\", \"larger\"])\n",
    "\n",
    "\n",
    "\n",
    "# include the actual counts as well by unpivoting smallerCount/largerCount       \n",
    "proportionsTable[\"Count\"] = [proportionsTable.smallerCount[i] if proportionsTable[\"size\"][i] == \"smaller\" else proportionsTable.largerCount[i] for i in range(proportionsTable.shape[0])]\n",
    "\n",
    "# drop smallerCount and largerCount (not needed anymore)\n",
    "proportionsTable = proportionsTable.drop(columns = [\"smallerCount\", \"largerCount\"])\n",
    "\n",
    "\n",
    "print(proportionsTable.head(5)) # take a look at the data set\n",
    "\n",
    "\n",
    "\n",
    "color_scale = alt.Scale(domain=[\"setosa\",\"versicolor\", \"virginica\"],\n",
    "                        range=['#324aa8', '#32a852', '#a83232']) # Ware(2021), use the six basic colours \n",
    "\n",
    "alt.Chart(proportionsTable).mark_bar(width = 50).encode(\n",
    "    x = alt.X(\"species:N\", title = \"Iris species\"),\n",
    "    y = alt.Y(\"Proportion:Q\", title = \"Proportion by size in species\"),\n",
    "    column = alt.Column(\"size:O\", title = \"Flower size\"),\n",
    "    color = alt.Color(\"species:N\", scale = color_scale, legend=alt.Legend(title=\"Species by colour hue\")),\n",
    "    tooltip=['Proportion', \"Count\"]\n",
    ").interactive().properties(\n",
    "    width = 200  # larger width of the entire plot and the bars for clearer view & easier comparison\n",
    ")\n"
   ]
  },
  {
   "cell_type": "code",
   "execution_count": null,
   "id": "772bde89",
   "metadata": {},
   "outputs": [],
   "source": []
  }
 ],
 "metadata": {
  "kernelspec": {
   "display_name": "Python 3 (ipykernel)",
   "language": "python",
   "name": "python3"
  },
  "language_info": {
   "codemirror_mode": {
    "name": "ipython",
    "version": 3
   },
   "file_extension": ".py",
   "mimetype": "text/x-python",
   "name": "python",
   "nbconvert_exporter": "python",
   "pygments_lexer": "ipython3",
   "version": "3.9.5"
  }
 },
 "nbformat": 4,
 "nbformat_minor": 5
}
