{
 "cells": [
  {
   "cell_type": "code",
   "execution_count": 17,
   "id": "00c55bec",
   "metadata": {
    "scrolled": true
   },
   "outputs": [
    {
     "data": {
      "text/html": [
       "\n",
       "<div id=\"altair-viz-ca5bd2b381c54815997d71796b13f204\"></div>\n",
       "<script type=\"text/javascript\">\n",
       "  (function(spec, embedOpt){\n",
       "    let outputDiv = document.currentScript.previousElementSibling;\n",
       "    if (outputDiv.id !== \"altair-viz-ca5bd2b381c54815997d71796b13f204\") {\n",
       "      outputDiv = document.getElementById(\"altair-viz-ca5bd2b381c54815997d71796b13f204\");\n",
       "    }\n",
       "    const paths = {\n",
       "      \"vega\": \"https://cdn.jsdelivr.net/npm//vega@5?noext\",\n",
       "      \"vega-lib\": \"https://cdn.jsdelivr.net/npm//vega-lib?noext\",\n",
       "      \"vega-lite\": \"https://cdn.jsdelivr.net/npm//vega-lite@4.8.1?noext\",\n",
       "      \"vega-embed\": \"https://cdn.jsdelivr.net/npm//vega-embed@6?noext\",\n",
       "    };\n",
       "\n",
       "    function loadScript(lib) {\n",
       "      return new Promise(function(resolve, reject) {\n",
       "        var s = document.createElement('script');\n",
       "        s.src = paths[lib];\n",
       "        s.async = true;\n",
       "        s.onload = () => resolve(paths[lib]);\n",
       "        s.onerror = () => reject(`Error loading script: ${paths[lib]}`);\n",
       "        document.getElementsByTagName(\"head\")[0].appendChild(s);\n",
       "      });\n",
       "    }\n",
       "\n",
       "    function showError(err) {\n",
       "      outputDiv.innerHTML = `<div class=\"error\" style=\"color:red;\">${err}</div>`;\n",
       "      throw err;\n",
       "    }\n",
       "\n",
       "    function displayChart(vegaEmbed) {\n",
       "      vegaEmbed(outputDiv, spec, embedOpt)\n",
       "        .catch(err => showError(`Javascript Error: ${err.message}<br>This usually means there's a typo in your chart specification. See the javascript console for the full traceback.`));\n",
       "    }\n",
       "\n",
       "    if(typeof define === \"function\" && define.amd) {\n",
       "      requirejs.config({paths});\n",
       "      require([\"vega-embed\"], displayChart, err => showError(`Error loading script: ${err.message}`));\n",
       "    } else if (typeof vegaEmbed === \"function\") {\n",
       "      displayChart(vegaEmbed);\n",
       "    } else {\n",
       "      loadScript(\"vega\")\n",
       "        .then(() => loadScript(\"vega-lite\"))\n",
       "        .then(() => loadScript(\"vega-embed\"))\n",
       "        .catch(showError)\n",
       "        .then(() => displayChart(vegaEmbed));\n",
       "    }\n",
       "  })({\"config\": {\"view\": {\"continuousWidth\": 400, \"continuousHeight\": 300}}, \"data\": {\"name\": \"data-18dcc80862a6889bcef1a93d5dc06f14\"}, \"mark\": \"bar\", \"encoding\": {\"color\": {\"type\": \"nominal\", \"field\": \"species\"}, \"column\": {\"type\": \"nominal\", \"field\": \"size\"}, \"tooltip\": [{\"type\": \"quantitative\", \"field\": \"Proportion\"}], \"x\": {\"type\": \"nominal\", \"field\": \"species\"}, \"y\": {\"type\": \"quantitative\", \"field\": \"Proportion\"}}, \"selection\": {\"selector014\": {\"type\": \"interval\", \"bind\": \"scales\", \"encodings\": [\"x\", \"y\"]}}, \"$schema\": \"https://vega.github.io/schema/vega-lite/v4.8.1.json\", \"datasets\": {\"data-18dcc80862a6889bcef1a93d5dc06f14\": [{\"species\": \"setosa\", \"size\": \"smaller\", \"Proportion\": 1.0}, {\"species\": \"versicolor\", \"size\": \"smaller\", \"Proportion\": 0.48}, {\"species\": \"virginica\", \"size\": \"smaller\", \"Proportion\": 0.12}, {\"species\": \"setosa\", \"size\": \"larger\", \"Proportion\": 0.0}, {\"species\": \"versicolor\", \"size\": \"larger\", \"Proportion\": 0.52}, {\"species\": \"virginica\", \"size\": \"larger\", \"Proportion\": 0.88}]}}, {\"mode\": \"vega-lite\"});\n",
       "</script>"
      ],
      "text/plain": [
       "alt.Chart(...)"
      ]
     },
     "execution_count": 17,
     "metadata": {},
     "output_type": "execute_result"
    }
   ],
   "source": [
    "import pandas as pd\n",
    "import altair as alt\n",
    "\n",
    "iris = pd.read_csv('iris.csv')\n",
    "\n",
    "\n",
    "iris.columns = [\"sepalLength\",\"sepalWidth\", \"petalLength\",\n",
    "                  \"petalWidth\", \"species\"]\n",
    "\n",
    "\n",
    "iris[\"larger\"] = iris.sepalLength > iris.sepalLength.median()\n",
    "\n",
    "countsOfLarger = iris.groupby([\"species\"]).larger.sum()\n",
    "countsOfSmaller = iris.groupby(\"species\").larger.count() - countsOfLarger\n",
    "\n",
    "\n",
    "proportionOfLarger = countsOfLarger / iris.groupby('species').larger.count()\n",
    "proportionOfSmaller = countsOfSmaller / iris.groupby('species').larger.count()\n",
    "\n",
    "proportionsTable = pd.DataFrame({\"smaller\": proportionOfSmaller,\n",
    "                                 \"larger\": proportionOfLarger})\n",
    "\n",
    "proportionsTable[\"species\"] = proportionsTable.index # index to column\n",
    "proportionsTable.index = range(len(proportionsTable.index)) # default index\n",
    "\n",
    "# from wide format to long (Tidy)\n",
    "proportionsTable = pd.melt(proportionsTable, var_name=\"size\", value_name=\"Proportion\", \n",
    "                           id_vars=[\"species\"], value_vars=[\"smaller\", \"larger\"])\n",
    "\n",
    "# these are dummy values to demonstrate how the proportions table looks like\n",
    "# 0 setosa     smaller  0.44\n",
    "# 1 versicolor smaller  0.5\n",
    "# 2 virginica  smaller  0.2\n",
    "# 3 versicolor larger   0.56\n",
    "#            ...\n",
    "\n",
    "\n",
    "\n",
    "alt.Chart(proportionsTable).mark_bar().encode(\n",
    "    x = 'species:N',\n",
    "    y = \"Proportion:Q\",\n",
    "    column = \"size:N\",\n",
    "    color = \"species:N\",\n",
    "    tooltip=['Proportion']\n",
    ").interactive()\n"
   ]
  },
  {
   "cell_type": "code",
   "execution_count": null,
   "id": "b45a9b12",
   "metadata": {},
   "outputs": [],
   "source": []
  }
 ],
 "metadata": {
  "kernelspec": {
   "display_name": "Python 3 (ipykernel)",
   "language": "python",
   "name": "python3"
  },
  "language_info": {
   "codemirror_mode": {
    "name": "ipython",
    "version": 3
   },
   "file_extension": ".py",
   "mimetype": "text/x-python",
   "name": "python",
   "nbconvert_exporter": "python",
   "pygments_lexer": "ipython3",
   "version": "3.9.5"
  }
 },
 "nbformat": 4,
 "nbformat_minor": 5
}
